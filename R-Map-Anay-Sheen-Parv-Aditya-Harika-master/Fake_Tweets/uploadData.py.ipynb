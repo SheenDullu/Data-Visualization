{
 "cells": [
  {
   "cell_type": "code",
   "execution_count": 2,
   "metadata": {
    "collapsed": true
   },
   "outputs": [],
   "source": [
    "def pg_load_table(file, table_name, dbname, host, port, user, pwd):\n",
    "    '''\n",
    "    This function upload csv to a target table\n",
    "    '''\n",
    "    sql_insert = \"\"\"INSERT INTO rmap(created_at, tweet_id, full_text,user_id,user_name,user_screen_name,is_retweet,retweeted_status_id,retweeted_status_text,is_quoted,is_politics)\n",
    "                    VALUES(%s, %s, %s, %s, %s, %s,  %s, %s, %s, %s, %s)\"\"\"\n",
    "    try:\n",
    "        conn = psycopg2.connect(dbname=dbname, host=host, port=port,\\\n",
    "        user=user, password=pwd)\n",
    "        print(\"Connecting to Database\")\n",
    "        cursor = conn.cursor()\n",
    "        for filename in os.listdir(directory):\n",
    "            file = directory + filename\n",
    "            i = 0\n",
    "            with open(file, 'r') as f:\n",
    "                reader = csv.reader(f)\n",
    "                next(reader) # This skips the 1st row which is the header.\n",
    "                for record in reader:\n",
    "                    cursor.execute(sql_insert, record)\n",
    "                    conn.commit()\n",
    "                    i+=1\n",
    "            print(\"File count for filename: \",filename, i)\n",
    "    except (Exception, pg.Error) as e:\n",
    "        print(e)\n",
    "    finally:\n",
    "        if (conn):\n",
    "            cursor.close()\n",
    "            conn.close()\n",
    "            print(\"Connection closed.\")\n"
   ]
  },
  {
   "cell_type": "code",
   "execution_count": 1,
   "metadata": {
    "collapsed": true
   },
   "outputs": [],
   "source": [
    "# Creating a new database table\n",
    "\n",
    "import psycopg2\n",
    "conn = psycopg2.connect(\"host=localhost dbname=rmap user=dv password=r-map-project\")\n",
    "\n",
    "cur = conn.cursor()\n",
    "# cur.execute(\"\"\"\n",
    "# CREATE TABLE rmap(\n",
    "# created_at text,\n",
    "# tweet_id text,\n",
    "# full_text text,\n",
    "# user_id text,\n",
    "# user_name text,\n",
    "# user_screen_name text,\n",
    "# is_retweet text,\n",
    "# retweeted_status_id text,\n",
    "# retweeted_status_text text,\n",
    "# is_quoted text,\n",
    "# is_politics text)\n",
    "# \"\"\")\n",
    "# conn.commit()"
   ]
  },
  {
   "cell_type": "code",
   "execution_count": 17,
   "metadata": {
    "collapsed": true
   },
   "outputs": [],
   "source": [
    "#For Deleting a database\n",
    "\n",
    "cur.execute(\"DROP TABLE rmap;\")\n",
    "conn.commit()"
   ]
  },
  {
   "cell_type": "code",
   "execution_count": 3,
   "metadata": {},
   "outputs": [
    {
     "name": "stdout",
     "output_type": "stream",
     "text": [
      "Connecting to Database\n",
      "File count for filename:  @BernieSanders1202779467082543104.csv 8196\n",
      "File count for filename:  @BarackObama1199754566130114567.csv 8488\n",
      "Connection closed.\n"
     ]
    }
   ],
   "source": [
    "import psycopg2, os,sys, csv\n",
    "\n",
    "\n",
    "# Dumping data into DB\n",
    "\n",
    "\n",
    "directory = '/home/local/ASUAD/arohill1/Academics/Fake_Tweets/new_pol/'\n",
    "table_name = 'rmap'\n",
    "dbname = 'rmap'\n",
    "host = 'localhost'\n",
    "port = '5432'\n",
    "user = 'dv'\n",
    "pwd = 'r-map-project'\n",
    "\n",
    "\n",
    "pg_load_table(directory, table_name, dbname, host, port, user, pwd)"
   ]
  },
  {
   "cell_type": "code",
   "execution_count": 53,
   "metadata": {},
   "outputs": [
    {
     "ename": "InternalError",
     "evalue": "current transaction is aborted, commands ignored until end of transaction block\n",
     "output_type": "error",
     "traceback": [
      "\u001b[0;31m---------------------------------------------------------------------------\u001b[0m",
      "\u001b[0;31mInternalError\u001b[0m                             Traceback (most recent call last)",
      "\u001b[0;32m<ipython-input-53-dc7be7e3cc58>\u001b[0m in \u001b[0;36m<module>\u001b[0;34m\u001b[0m\n\u001b[0;32m----> 1\u001b[0;31m \u001b[0mcur\u001b[0m\u001b[0;34m.\u001b[0m\u001b[0mexecute\u001b[0m\u001b[0;34m(\u001b[0m\u001b[0;34m\"INSERT INTO rmap (created_at, tweet_id, full_text, user_id, user_name, user_screen_name, is_retweet, retweeted_status_id, retweeted_status_text, is_quoted, is_politics)  VALUES ('2019-11-26 08:28:21 PM', '1199424677170622472', 'i love u ! https:\\/\\/t.co\\/7w9VrwDLHv', '34507480','Ariana Grande', 'ArianaGrande','False','', '', 'False', 'False');\"\u001b[0m\u001b[0;34m)\u001b[0m\u001b[0;34m\u001b[0m\u001b[0;34m\u001b[0m\u001b[0m\n\u001b[0m\u001b[1;32m      2\u001b[0m \u001b[0mcur\u001b[0m\u001b[0;34m.\u001b[0m\u001b[0mcommit\u001b[0m\u001b[0;34m(\u001b[0m\u001b[0;34m)\u001b[0m\u001b[0;34m\u001b[0m\u001b[0;34m\u001b[0m\u001b[0m\n\u001b[1;32m      3\u001b[0m \u001b[0;31m#print(cur.fetchall())\u001b[0m\u001b[0;34m\u001b[0m\u001b[0;34m\u001b[0m\u001b[0;34m\u001b[0m\u001b[0m\n",
      "\u001b[0;31mInternalError\u001b[0m: current transaction is aborted, commands ignored until end of transaction block\n"
     ]
    }
   ],
   "source": [
    "cur.execute(\"INSERT INTO rmap (created_at, tweet_id, full_text, user_id, user_name, user_screen_name, is_retweet, retweeted_status_id, retweeted_status_text, is_quoted, is_politics)  VALUES ('2019-11-26 08:28:21 PM', '1199424677170622472', 'i love u ! https:\\/\\/t.co\\/7w9VrwDLHv', '34507480','Ariana Grande', 'ArianaGrande','False','', '', 'False', 'False');\")\n",
    "cur.commit()\n",
    "#print(cur.fetchall())"
   ]
  },
  {
   "cell_type": "code",
   "execution_count": null,
   "metadata": {
    "collapsed": true
   },
   "outputs": [],
   "source": []
  },
  {
   "cell_type": "code",
   "execution_count": null,
   "metadata": {
    "collapsed": true
   },
   "outputs": [],
   "source": []
  }
 ],
 "metadata": {
  "kernelspec": {
   "display_name": "Python 3",
   "language": "python",
   "name": "python3"
  },
  "language_info": {
   "codemirror_mode": {
    "name": "ipython",
    "version": 3
   },
   "file_extension": ".py",
   "mimetype": "text/x-python",
   "name": "python",
   "nbconvert_exporter": "python",
   "pygments_lexer": "ipython3",
   "version": "3.5.2"
  }
 },
 "nbformat": 4,
 "nbformat_minor": 2
}
